{
 "cells": [
  {
   "cell_type": "code",
   "execution_count": 1,
   "id": "9bb7a4f7",
   "metadata": {},
   "outputs": [],
   "source": [
    "## Import the data that we are dealing with\n",
    "import numpy as np\n",
    "import sklearn as sk\n",
    "import pandas as pd"
   ]
  },
  {
   "cell_type": "raw",
   "id": "c83ae702",
   "metadata": {},
   "source": [
    "raw_data = pd.read_csv('Audiobooks_data.csv')"
   ]
  },
  {
   "cell_type": "raw",
   "id": "b16e7f12",
   "metadata": {},
   "source": [
    "print(raw_data)"
   ]
  },
  {
   "cell_type": "code",
   "execution_count": null,
   "id": "48eccb3b",
   "metadata": {},
   "outputs": [],
   "source": []
  }
 ],
 "metadata": {
  "kernelspec": {
   "display_name": "Python 3",
   "language": "python",
   "name": "python3"
  },
  "language_info": {
   "codemirror_mode": {
    "name": "ipython",
    "version": 3
   },
   "file_extension": ".py",
   "mimetype": "text/x-python",
   "name": "python",
   "nbconvert_exporter": "python",
   "pygments_lexer": "ipython3",
   "version": "3.8.8"
  }
 },
 "nbformat": 4,
 "nbformat_minor": 5
}
